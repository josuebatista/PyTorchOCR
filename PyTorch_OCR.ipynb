{
  "nbformat": 4,
  "nbformat_minor": 0,
  "metadata": {
    "colab": {
      "provenance": [],
      "gpuType": "T4",
      "authorship_tag": "ABX9TyPL/9c4nmzkb84OvoP6cGOm",
      "include_colab_link": true
    },
    "kernelspec": {
      "name": "python3",
      "display_name": "Python 3"
    },
    "language_info": {
      "name": "python"
    }
  },
  "cells": [
    {
      "cell_type": "markdown",
      "metadata": {
        "id": "view-in-github",
        "colab_type": "text"
      },
      "source": [
        "<a href=\"https://colab.research.google.com/github/josuebatista/PyTorchOCR/blob/main/PyTorch_OCR.ipynb\" target=\"_parent\"><img src=\"https://colab.research.google.com/assets/colab-badge.svg\" alt=\"Open In Colab\"/></a>"
      ]
    },
    {
      "cell_type": "code",
      "execution_count": 4,
      "metadata": {
        "id": "eygMz64tq3SS"
      },
      "outputs": [],
      "source": [
        "import torch\n",
        "import torchvision\n",
        "import torch.nn as nn\n",
        "import torch.nn.functional as F\n",
        "import torch.optim as optim\n",
        "import math\n",
        "import torchvision.transforms as transforms\n",
        "import numpy as np\n",
        "import matplotlib.pyplot as plt\n",
        "torch.set_printoptions(linewidth=120)\n",
        "torch.set_grad_enabled(True)\n",
        "\n",
        "#To manage whether there is a google drive connected or not\n",
        "drive_mounted = False"
      ]
    },
    {
      "cell_type": "code",
      "source": [
        "from google.colab import drive\n",
        "try:\n",
        "    drive.mount('/content/drive', force_remount=True)\n",
        "    drive_mounted = True\n",
        "except:\n",
        "    drive_mounted = False\n",
        "\n",
        "if drive_mounted:\n",
        "    print(\"Google Drive is connected.\")\n",
        "else:\n",
        "    print(\"Google Drive is not connected.\")\n"
      ],
      "metadata": {
        "colab": {
          "base_uri": "https://localhost:8080/"
        },
        "id": "l4HKqzxCt5_l",
        "outputId": "9c4d5dbd-e77b-4e7d-adb8-5c222f7d4147"
      },
      "execution_count": 14,
      "outputs": [
        {
          "output_type": "stream",
          "name": "stdout",
          "text": [
            "Mounted at /content/drive\n",
            "Google Drive is connected.\n"
          ]
        }
      ]
    },
    {
      "cell_type": "code",
      "source": [
        "'''\n",
        "The Chars74K dataset\n",
        "Character Recognition in Natural Images\n",
        "http://www.ee.surrey.ac.uk/CVSSP/demos/chars74k/\n",
        "Images of individual characters: the files below contain directory trees of each dataset of individual characters. In these trees, there is one directory per class of character. Each character sample appear in an individual PNG image. There's a large variation is scale, as we kept the original resolution of the characters as they appear in the original images.\n",
        "English, 62 classes (0-9, A-Z, a-z)\n",
        "EnglishFnt.tgz (51.1 MB): characters from computer fonts with 4 variations (combinations of italic, bold and normal).\n",
        "'''\n",
        "\n",
        "import tarfile\n",
        "\n",
        "if drive_mounted:\n",
        "    tar = tarfile.open('/content/drive/MyDrive/PyTorch_Coursera/Python_OCR/EnglishFnt.tgz')\n",
        "else:\n",
        "    !wget -O EnglishFnt.tgz http://www.ee.surrey.ac.uk/CVSSP/demos/chars74k/EnglishFnt.tgz\n",
        "    tar = tarfile.open('EnglishFnt.tgz')\n",
        "\n",
        "tar.extractall('./EnglishFnt')\n",
        "tar.close()"
      ],
      "metadata": {
        "id": "_tSpvLcIuKtW",
        "colab": {
          "base_uri": "https://localhost:8080/"
        },
        "outputId": "d74ea728-8fb4-4ff4-d8cc-d552bfda287a"
      },
      "execution_count": 5,
      "outputs": [
        {
          "output_type": "stream",
          "name": "stdout",
          "text": [
            "--2023-06-14 13:24:16--  http://www.ee.surrey.ac.uk/CVSSP/demos/chars74k/EnglishFnt.tgz\n",
            "Resolving www.ee.surrey.ac.uk (www.ee.surrey.ac.uk)... 131.227.80.48\n",
            "Connecting to www.ee.surrey.ac.uk (www.ee.surrey.ac.uk)|131.227.80.48|:80... connected.\n",
            "HTTP request sent, awaiting response... 200 OK\n",
            "Length: 49817950 (48M) [application/x-gzip]\n",
            "Saving to: ‘EnglishFnt.tgz’\n",
            "\n",
            "EnglishFnt.tgz      100%[===================>]  47.51M  14.6MB/s    in 3.3s    \n",
            "\n",
            "2023-06-14 13:24:20 (14.6 MB/s) - ‘EnglishFnt.tgz’ saved [49817950/49817950]\n",
            "\n"
          ]
        }
      ]
    },
    {
      "cell_type": "code",
      "source": [
        "data = torchvision.datasets.ImageFolder(\n",
        "    root='./EnglishFnt/English/Fnt',\n",
        "    transform=transforms.Compose([\n",
        "        transforms.Resize((48, 48)),\n",
        "        transforms.RandomHorizontalFlip(),\n",
        "        transforms.ToTensor(),\n",
        "        transforms.Normalize((0.5,), (0.5,))\n",
        "    ])\n",
        ")"
      ],
      "metadata": {
        "id": "-ljnqYyNxRCW"
      },
      "execution_count": 6,
      "outputs": []
    },
    {
      "cell_type": "code",
      "source": [
        "from PIL import Image\n",
        "import torchvision.transforms as transforms\n",
        "import matplotlib.pyplot as plt\n",
        "\n",
        "# Load and display the image\n",
        "image_path = '/content/EnglishFnt/English/Fnt/Sample001/img001-00012.png'  # Replace with the path to your actual image\n",
        "image = Image.open(image_path)\n",
        "plt.imshow(image)\n",
        "plt.axis('off')\n",
        "plt.show()\n",
        "\n",
        "# Preprocess the image\n",
        "preprocess = transforms.Compose([\n",
        "    transforms.Resize((48, 48)),\n",
        "    transforms.ToTensor(),\n",
        "    transforms.Normalize((0.5,), (0.5,))\n",
        "])\n",
        "preprocessed_image = preprocess(image)\n",
        "\n",
        "# Add a batch dimension\n",
        "input_tensor = preprocessed_image.unsqueeze(0)\n",
        "\n",
        "# Verify the shape of the input tensor\n",
        "print(input_tensor.shape)"
      ],
      "metadata": {
        "colab": {
          "base_uri": "https://localhost:8080/",
          "height": 423
        },
        "id": "HarLaawHXS1S",
        "outputId": "c628eb3e-6412-45df-a543-79e464884b5a"
      },
      "execution_count": 7,
      "outputs": [
        {
          "output_type": "display_data",
          "data": {
            "text/plain": [
              "<Figure size 640x480 with 1 Axes>"
            ],
            "image/png": "[encoded data removed]"
          },
          "metadata": {}
        },
        {
          "output_type": "stream",
          "name": "stdout",
          "text": [
            "torch.Size([1, 1, 48, 48])\n"
          ]
        }
      ]
    },
    {
      "cell_type": "code",
      "source": [
        "def load_split(dataset, batch_size, test_split=0.3, random_seed=42):\n",
        "    dataset_size = len(dataset)\n",
        "    indices = list(range(dataset_size))\n",
        "    np.random.seed(random_seed)\n",
        "    np.random.shuffle(indices)\n",
        "\n",
        "    split = int(np.floor(test_split * dataset_size))\n",
        "    train_indices, test_indices = indices[split:], indices[:split]\n",
        "\n",
        "    testset_size = len(test_indices)\n",
        "    indices = list(range(testset_size))\n",
        "    np.random.seed(random_seed)\n",
        "    np.random.shuffle(indices)\n",
        "\n",
        "    split = int(np.floor(0.5 * testset_size))\n",
        "    val_indices, test_indices = indices[split:], indices[:split]\n",
        "\n",
        "    # Creating data samplers:\n",
        "    train_sampler = torch.utils.data.SubsetRandomSampler(train_indices)\n",
        "    val_sampler = torch.utils.data.SubsetRandomSampler(val_indices)\n",
        "    test_sampler = torch.utils.data.SubsetRandomSampler(test_indices)\n",
        "\n",
        "    # Creating data loaders:\n",
        "    train_loader = torch.utils.data.DataLoader(dataset, batch_size, sampler=train_sampler)\n",
        "    test_loader = torch.utils.data.DataLoader(dataset, batch_size, sampler=test_sampler)\n",
        "    val_loader = torch.utils.data.DataLoader(dataset, batch_size, sampler=val_sampler)\n",
        "\n",
        "    return train_loader, test_loader, val_loader"
      ],
      "metadata": {
        "id": "wnLBcmaYKUE8"
      },
      "execution_count": 8,
      "outputs": []
    },
    {
      "cell_type": "code",
      "source": [
        "batch_size = 36\n",
        "train_loader, test_loader, val_loader = load_split(data, batch_size, test_split=0.3)"
      ],
      "metadata": {
        "id": "oRHPFpCzXzdT"
      },
      "execution_count": 9,
      "outputs": []
    },
    {
      "cell_type": "code",
      "source": [
        "for batch in train_loader:\n",
        "    images, labels = batch\n",
        "    print(images.shape)  # Print the shape of the batch of images\n",
        "    print(labels.shape)  # Print the shape of the batch of labels\n",
        "    break  # Print only the first batch"
      ],
      "metadata": {
        "colab": {
          "base_uri": "https://localhost:8080/"
        },
        "id": "zcqJ3ipEQzDY",
        "outputId": "cfbc5806-7c13-4669-a988-d55e8646addc"
      },
      "execution_count": 10,
      "outputs": [
        {
          "output_type": "stream",
          "name": "stdout",
          "text": [
            "torch.Size([36, 3, 48, 48])\n",
            "torch.Size([36])\n"
          ]
        }
      ]
    },
    {
      "cell_type": "code",
      "source": [
        "class OCRNet(nn.Module):\n",
        "    def __init__(self, num_features):\n",
        "        super(OCRNet, self).__init__()\n",
        "        self.conv1 = nn.Conv2d(3, 16, kernel_size=3, stride=1, padding=1)\n",
        "        self.conv2 = nn.Conv2d(16, 32, kernel_size=3, stride=1, padding=1)\n",
        "        self.fc = nn.Linear(num_features, 62)  # Output has 62 classes instead of 10\n",
        "\n",
        "    def forward(self, x):\n",
        "        x = F.relu(self.conv1(x))\n",
        "        x = F.relu(self.conv2(x))\n",
        "        x = x.view(x.size(0), -1)\n",
        "        x = self.fc(x)\n",
        "        return x\n",
        "\n",
        "num_features = 32 * 48 * 48  # Adjust this value based on the actual feature size\n",
        "model = OCRNet(num_features)"
      ],
      "metadata": {
        "id": "RmhlHpgHTcIU"
      },
      "execution_count": 11,
      "outputs": []
    },
    {
      "cell_type": "code",
      "source": [
        "optimizer = optim.SGD(model.parameters(), lr=0.001, momentum=0.9)\n",
        "criterion = nn.CrossEntropyLoss()"
      ],
      "metadata": {
        "id": "GLNfokbqeqOm"
      },
      "execution_count": 12,
      "outputs": []
    },
    {
      "cell_type": "code",
      "source": [
        "def train(model, train_loader, optimizer, criterion, num_epochs=10):\n",
        "    model.train()\n",
        "    for epoch in range(num_epochs):\n",
        "        running_loss = 0.0\n",
        "        for images, labels in train_loader:\n",
        "            optimizer.zero_grad()\n",
        "            outputs = model(images)\n",
        "            loss = criterion(outputs, labels)\n",
        "            loss.backward()\n",
        "            optimizer.step()\n",
        "            running_loss += loss.item()\n",
        "        epoch_loss = running_loss / len(train_loader)\n",
        "        print(f\"Epoch {epoch+1}/{num_epochs}, Loss: {epoch_loss:.4f}\")"
      ],
      "metadata": {
        "id": "zcxzvJSXGT9V"
      },
      "execution_count": null,
      "outputs": []
    },
    {
      "cell_type": "code",
      "source": [
        "# Call the training function\n",
        "train(model, train_loader, optimizer, criterion, num_epochs=10)"
      ],
      "metadata": {
        "colab": {
          "base_uri": "https://localhost:8080/"
        },
        "id": "BjZ7rowDUCDo",
        "outputId": "4e85bdf0-46e6-4930-cb48-0812a18c62c9"
      },
      "execution_count": 17,
      "outputs": [
        {
          "output_type": "stream",
          "name": "stdout",
          "text": [
            "Epoch 1/10, Loss: 1.6279\n",
            "Epoch 2/10, Loss: 0.9571\n",
            "Epoch 3/10, Loss: 0.7714\n",
            "Epoch 4/10, Loss: 0.6585\n",
            "Epoch 5/10, Loss: 0.5798\n",
            "Epoch 6/10, Loss: 0.5191\n",
            "Epoch 7/10, Loss: 0.4614\n",
            "Epoch 8/10, Loss: 0.4190\n",
            "Epoch 9/10, Loss: 0.3851\n",
            "Epoch 10/10, Loss: 0.3492\n"
          ]
        }
      ]
    },
    {
      "cell_type": "code",
      "source": [
        "def validate(model, val_loader, criterion):\n",
        "    model.eval()\n",
        "    running_loss = 0.0\n",
        "    correct = 0\n",
        "    total = 0\n",
        "    with torch.no_grad():\n",
        "        for images, labels in val_loader:\n",
        "            outputs = model(images)\n",
        "            loss = criterion(outputs, labels)\n",
        "            running_loss += loss.item()\n",
        "            _, predicted = torch.max(outputs.data, 1)\n",
        "            total += labels.size(0)\n",
        "            correct += (predicted == labels).sum().item()\n",
        "    avg_loss = running_loss / len(val_loader)\n",
        "    accuracy = 100 * correct / total\n",
        "    print(f'Validation Loss: {avg_loss:.4f}, Validation Accuracy: {accuracy:.2f}%')\n",
        "\n",
        "validate(model, val_loader, criterion)"
      ],
      "metadata": {
        "colab": {
          "base_uri": "https://localhost:8080/"
        },
        "id": "UWsxswW-pTxu",
        "outputId": "606abfcf-c0ef-4794-ce05-45276c96fa4a"
      },
      "execution_count": 18,
      "outputs": [
        {
          "output_type": "stream",
          "name": "stdout",
          "text": [
            "Validation Loss: 0.2243, Validation Accuracy: 94.05%\n"
          ]
        }
      ]
    },
    {
      "cell_type": "code",
      "source": [
        "def test(model, test_loader, criterion):\n",
        "    model.eval()\n",
        "    running_loss = 0.0\n",
        "    correct = 0\n",
        "    total = 0\n",
        "    with torch.no_grad():\n",
        "        for images, labels in test_loader:\n",
        "            outputs = model(images)\n",
        "            loss = criterion(outputs, labels)\n",
        "            running_loss += loss.item()\n",
        "            _, predicted = torch.max(outputs.data, 1)\n",
        "            total += labels.size(0)\n",
        "            correct += (predicted == labels).sum().item()\n",
        "    avg_loss = running_loss / len(test_loader)\n",
        "    accuracy = 100 * correct / total\n",
        "    print(f'Test Loss: {avg_loss:.4f}, Test Accuracy: {accuracy:.2f}%')\n",
        "\n",
        "test(model, test_loader, criterion)"
      ],
      "metadata": {
        "colab": {
          "base_uri": "https://localhost:8080/"
        },
        "id": "UWRZSPM0pVwE",
        "outputId": "df2fea7e-9f43-4c35-be70-525179c62241"
      },
      "execution_count": 20,
      "outputs": [
        {
          "output_type": "stream",
          "name": "stdout",
          "text": [
            "Test Loss: 0.2403, Test Accuracy: 93.63%\n"
          ]
        }
      ]
    },
    {
      "cell_type": "code",
      "source": [
        "# Save model\n",
        "if drive_mounted:\n",
        "    torch.save(model.state_dict(), '/content/drive/MyDrive/PyTorch_Coursera/Python_OCR/PyTorch_OCR_20230613a.pth')\n",
        "else:\n",
        "    torch.save(model.state_dict(), '/content/PyTorch_OCR.pth')"
      ],
      "metadata": {
        "id": "KO5QLAXxqLch"
      },
      "execution_count": 16,
      "outputs": []
    },
    {
      "cell_type": "code",
      "source": [
        "# Load model\n",
        "model = OCRNet(num_features)\n",
        "if drive_mounted:\n",
        "    model.load_state_dict(torch.load('/content/drive/MyDrive/PyTorch_Coursera/Python_OCR/PyTorch_OCR_20230613a.pth'))\n",
        "else:\n",
        "    model.load_state_dict(torch.load('/content/drive/MyDrive/PyTorch_Coursera/Python_OCR/PyTorch_OCR.pth'))\n",
        "model.eval()  # Ensure the model is in evaluation mode"
      ],
      "metadata": {
        "colab": {
          "base_uri": "https://localhost:8080/"
        },
        "id": "IScGqb8MquY1",
        "outputId": "c503911a-4758-4557-9ded-006931e1d8d0"
      },
      "execution_count": 15,
      "outputs": [
        {
          "output_type": "execute_result",
          "data": {
            "text/plain": [
              "OCRNet(\n",
              "  (conv1): Conv2d(3, 16, kernel_size=(3, 3), stride=(1, 1), padding=(1, 1))\n",
              "  (conv2): Conv2d(16, 32, kernel_size=(3, 3), stride=(1, 1), padding=(1, 1))\n",
              "  (fc): Linear(in_features=73728, out_features=62, bias=True)\n",
              ")"
            ]
          },
          "metadata": {},
          "execution_count": 15
        }
      ]
    },
    {
      "cell_type": "code",
      "source": [
        "classes = list('0123456789ABCDEFGHIJKLMNOPQRSTUVWXYZabcdefghijklmnopqrstuvwxyz')\n",
        "\n",
        "def predict(model, image_path, transform):\n",
        "    image = Image.open(image_path).convert('RGB')  # Convert to RGB\n",
        "    image = transform(image).unsqueeze(0)\n",
        "\n",
        "    model.eval()  # Set the model to evaluation mode\n",
        "    with torch.no_grad():\n",
        "        output = model(image)\n",
        "        _, predicted_idx = torch.max(output, 1)\n",
        "        print(predicted_idx)\n",
        "        predicted_class = classes[predicted_idx]\n",
        "\n",
        "    plt.imshow(Image.open(image_path))\n",
        "    plt.title(f'Predicted Class: {predicted_class}')\n",
        "    plt.axis('off')\n",
        "    plt.show()\n",
        "\n",
        "# Specify the path to your image\n",
        "image_path = '/content/EnglishFnt/English/Fnt/Sample049/img049-00001.png'\n",
        "\n",
        "predict(model, image_path, preprocess)"
      ],
      "metadata": {
        "colab": {
          "base_uri": "https://localhost:8080/",
          "height": 445
        },
        "id": "kXQwveBxrbjy",
        "outputId": "0d3abd85-3217-4ef1-b78e-105e656aa7fe"
      },
      "execution_count": 23,
      "outputs": [
        {
          "output_type": "stream",
          "name": "stdout",
          "text": [
            "tensor([48])\n"
          ]
        },
        {
          "output_type": "display_data",
          "data": {
            "text/plain": [
              "<Figure size 640x480 with 1 Axes>"
            ],
            "image/png": "[encoded data removed]"
          },
          "metadata": {}
        }
      ]
    }
  ]
}