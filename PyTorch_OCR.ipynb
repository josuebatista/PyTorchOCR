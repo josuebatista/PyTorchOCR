{
  "nbformat": 4,
  "nbformat_minor": 0,
  "metadata": {
    "colab": {
      "provenance": [],
      "gpuType": "T4",
      "authorship_tag": "ABX9TyONIpME/JXqg1LX6LG3eG7e",
      "include_colab_link": true
    },
    "kernelspec": {
      "name": "python3",
      "display_name": "Python 3"
    },
    "language_info": {
      "name": "python"
    }
  },
  "cells": [
    {
      "cell_type": "markdown",
      "metadata": {
        "id": "view-in-github",
        "colab_type": "text"
      },
      "source": [
        "<a href=\"https://colab.research.google.com/github/josuebatista/PyTorchOCR/blob/main/PyTorch_OCR.ipynb\" target=\"_parent\"><img src=\"https://colab.research.google.com/assets/colab-badge.svg\" alt=\"Open In Colab\"/></a>"
      ]
    },
    {
      "cell_type": "markdown",
      "source": [
        "# Optical Character Recognition Using PyTorch\n",
        "\n",
        "This project provides an implementation of an Optical Character Recognition (OCR) model using PyTorch. We train a Convolutional Neural Network (CNN) to recognize individual characters in natural images."
      ],
      "metadata": {
        "id": "jsr9EWJWM2ny"
      }
    },
    {
      "cell_type": "code",
      "execution_count": 37,
      "metadata": {
        "id": "eygMz64tq3SS"
      },
      "outputs": [],
      "source": [
        "import torch\n",
        "import torchvision\n",
        "import torch.nn as nn\n",
        "import torch.nn.functional as F\n",
        "import torch.optim as optim\n",
        "import math\n",
        "import torchvision.transforms as transforms\n",
        "import numpy as np\n",
        "import matplotlib.pyplot as plt\n",
        "torch.set_printoptions(linewidth=120)\n",
        "torch.set_grad_enabled(True)\n",
        "\n",
        "#To manage whether there is a google drive connected or not\n",
        "drive_mounted = False"
      ]
    },
    {
      "cell_type": "code",
      "source": [
        "from google.colab import drive\n",
        "try:\n",
        "    drive.mount('/content/drive', force_remount=True)\n",
        "    drive_mounted = True\n",
        "except:\n",
        "    drive_mounted = False\n",
        "\n",
        "if drive_mounted:\n",
        "    print(\"Google Drive is connected.\")\n",
        "else:\n",
        "    print(\"Google Drive is not connected.\")\n"
      ],
      "metadata": {
        "colab": {
          "base_uri": "https://localhost:8080/"
        },
        "id": "l4HKqzxCt5_l",
        "outputId": "ee6d0917-f2ee-47e4-b430-1122e354f888"
      },
      "execution_count": 38,
      "outputs": [
        {
          "output_type": "stream",
          "name": "stdout",
          "text": [
            "Mounted at /content/drive\n",
            "Google Drive is connected.\n"
          ]
        }
      ]
    },
    {
      "cell_type": "markdown",
      "source": [
        "## Dataset\n",
        "\n",
        "We make use of the [Chars74K dataset](http://www.ee.surrey.ac.uk/CVSSP/demos/chars74k/), which provides images of individual characters, including variations in scale, and maintaining the original resolution of the characters as they appear in the original images.\n",
        "\n",
        "Specifically, we are using the `EnglishFnt.tgz` file, which contains characters from computer fonts with 4 variations (combinations of italic, bold, and normal). This dataset has 62 classes, consisting of digits 0-9, uppercase letters A-Z, and lowercase letters a-z.\n"
      ],
      "metadata": {
        "id": "5a50JfPlM_IY"
      }
    },
    {
      "cell_type": "code",
      "source": [
        "'''\n",
        "The Chars74K dataset\n",
        "Character Recognition in Natural Images\n",
        "http://www.ee.surrey.ac.uk/CVSSP/demos/chars74k/\n",
        "Images of individual characters: the files below contain directory trees of each dataset of individual characters. In these trees, there is one directory per class of character. Each character sample appear in an individual PNG image. There's a large variation is scale, as we kept the original resolution of the characters as they appear in the original images.\n",
        "English, 62 classes (0-9, A-Z, a-z)\n",
        "EnglishFnt.tgz (51.1 MB): characters from computer fonts with 4 variations (combinations of italic, bold and normal).\n",
        "'''\n",
        "\n",
        "import tarfile\n",
        "\n",
        "if drive_mounted:\n",
        "    tar = tarfile.open('/content/drive/MyDrive/Python_OCR/EnglishFnt.tgz')\n",
        "else:\n",
        "    !wget -O EnglishFnt.tgz http://www.ee.surrey.ac.uk/CVSSP/demos/chars74k/EnglishFnt.tgz\n",
        "    tar = tarfile.open('EnglishFnt.tgz')\n",
        "\n",
        "tar.extractall('./EnglishFnt')\n",
        "tar.close()"
      ],
      "metadata": {
        "id": "_tSpvLcIuKtW",
        "colab": {
          "base_uri": "https://localhost:8080/"
        },
        "outputId": "d74ea728-8fb4-4ff4-d8cc-d552bfda287a"
      },
      "execution_count": 5,
      "outputs": [
        {
          "output_type": "stream",
          "name": "stdout",
          "text": [
            "--2023-06-14 13:24:16--  http://www.ee.surrey.ac.uk/CVSSP/demos/chars74k/EnglishFnt.tgz\n",
            "Resolving www.ee.surrey.ac.uk (www.ee.surrey.ac.uk)... 131.227.80.48\n",
            "Connecting to www.ee.surrey.ac.uk (www.ee.surrey.ac.uk)|131.227.80.48|:80... connected.\n",
            "HTTP request sent, awaiting response... 200 OK\n",
            "Length: 49817950 (48M) [application/x-gzip]\n",
            "Saving to: ‘EnglishFnt.tgz’\n",
            "\n",
            "EnglishFnt.tgz      100%[===================>]  47.51M  14.6MB/s    in 3.3s    \n",
            "\n",
            "2023-06-14 13:24:20 (14.6 MB/s) - ‘EnglishFnt.tgz’ saved [49817950/49817950]\n",
            "\n"
          ]
        }
      ]
    },
    {
      "cell_type": "markdown",
      "source": [
        "## Task 1: Image Preprocessing\n",
        "\n",
        "The images are preprocessed before feeding them into the model. The preprocessing steps include resizing the images, randomly flipping the images horizontally for data augmentation, converting the images into PyTorch tensors, and normalizing the pixel values.\n"
      ],
      "metadata": {
        "id": "kTPj0n_9NSvI"
      }
    },
    {
      "cell_type": "code",
      "source": [
        "data = torchvision.datasets.ImageFolder(\n",
        "    root='./EnglishFnt/English/Fnt',\n",
        "    transform=transforms.Compose([\n",
        "        transforms.Resize((48, 48)),\n",
        "        transforms.RandomHorizontalFlip(),\n",
        "        transforms.ToTensor(),\n",
        "        transforms.Normalize((0.5,), (0.5,))\n",
        "    ])\n",
        ")"
      ],
      "metadata": {
        "id": "-ljnqYyNxRCW"
      },
      "execution_count": 40,
      "outputs": []
    },
    {
      "cell_type": "code",
      "source": [
        "from PIL import Image\n",
        "import torchvision.transforms as transforms\n",
        "import matplotlib.pyplot as plt\n",
        "\n",
        "# Load and display the image\n",
        "image_path = '/content/EnglishFnt/English/Fnt/Sample001/img001-00012.png'  # Replace with the path to your actual image\n",
        "image = Image.open(image_path)\n",
        "plt.imshow(image)\n",
        "plt.axis('off')\n",
        "plt.show()\n",
        "\n",
        "# Preprocess the image\n",
        "preprocess = transforms.Compose([\n",
        "    transforms.Resize((48, 48)),\n",
        "    transforms.ToTensor(),\n",
        "    transforms.Normalize((0.5,), (0.5,))\n",
        "])\n",
        "preprocessed_image = preprocess(image)\n",
        "\n",
        "# Add a batch dimension\n",
        "input_tensor = preprocessed_image.unsqueeze(0)\n",
        "\n",
        "# Verify the shape of the input tensor\n",
        "print(input_tensor.shape)"
      ],
      "metadata": {
        "colab": {
          "base_uri": "https://localhost:8080/",
          "height": 423
        },
        "id": "HarLaawHXS1S",
        "outputId": "b4b2169a-e07e-4b27-c769-1c89a35684f9"
      },
      "execution_count": 41,
      "outputs": [
        {
          "output_type": "display_data",
          "data": {
            "text/plain": [
              "<Figure size 640x480 with 1 Axes>"
            ],
            "image/png": "[encoded data removed]"
          },
          "metadata": {}
        },
        {
          "output_type": "stream",
          "name": "stdout",
          "text": [
            "torch.Size([1, 1, 48, 48])\n"
          ]
        }
      ]
    },
    {
      "cell_type": "markdown",
      "source": [
        "## Task 2: Data Loading and Preparation\n",
        "\n",
        "We load the dataset and prepare it by splitting into training, validation, and testing sets."
      ],
      "metadata": {
        "id": "BrLz-e6ONc08"
      }
    },
    {
      "cell_type": "code",
      "source": [
        "def load_split(dataset, batch_size, test_split=0.3, random_seed=42):\n",
        "    dataset_size = len(dataset)\n",
        "    indices = list(range(dataset_size))\n",
        "    np.random.seed(random_seed)\n",
        "    np.random.shuffle(indices)\n",
        "\n",
        "    split = int(np.floor(test_split * dataset_size))\n",
        "    train_indices, test_indices = indices[split:], indices[:split]\n",
        "\n",
        "    testset_size = len(test_indices)\n",
        "    indices = list(range(testset_size))\n",
        "    np.random.seed(random_seed)\n",
        "    np.random.shuffle(indices)\n",
        "\n",
        "    split = int(np.floor(0.5 * testset_size))\n",
        "    val_indices, test_indices = indices[split:], indices[:split]\n",
        "\n",
        "    # Creating data samplers:\n",
        "    train_sampler = torch.utils.data.SubsetRandomSampler(train_indices)\n",
        "    val_sampler = torch.utils.data.SubsetRandomSampler(val_indices)\n",
        "    test_sampler = torch.utils.data.SubsetRandomSampler(test_indices)\n",
        "\n",
        "    # Creating data loaders:\n",
        "    train_loader = torch.utils.data.DataLoader(dataset, batch_size, sampler=train_sampler)\n",
        "    test_loader = torch.utils.data.DataLoader(dataset, batch_size, sampler=test_sampler)\n",
        "    val_loader = torch.utils.data.DataLoader(dataset, batch_size, sampler=val_sampler)\n",
        "\n",
        "    return train_loader, test_loader, val_loader"
      ],
      "metadata": {
        "id": "wnLBcmaYKUE8"
      },
      "execution_count": 42,
      "outputs": []
    },
    {
      "cell_type": "code",
      "source": [
        "batch_size = 36\n",
        "train_loader, test_loader, val_loader = load_split(data, batch_size, test_split=0.3)"
      ],
      "metadata": {
        "id": "oRHPFpCzXzdT"
      },
      "execution_count": 43,
      "outputs": []
    },
    {
      "cell_type": "code",
      "source": [
        "for batch in train_loader:\n",
        "    images, labels = batch\n",
        "    print(images.shape)  # Print the shape of the batch of images\n",
        "    print(labels.shape)  # Print the shape of the batch of labels\n",
        "    break  # Print only the first batch"
      ],
      "metadata": {
        "colab": {
          "base_uri": "https://localhost:8080/"
        },
        "id": "zcqJ3ipEQzDY",
        "outputId": "fd195086-9760-4730-c4dc-1fe4168dd6a5"
      },
      "execution_count": 44,
      "outputs": [
        {
          "output_type": "stream",
          "name": "stdout",
          "text": [
            "torch.Size([36, 3, 48, 48])\n",
            "torch.Size([36])\n"
          ]
        }
      ]
    },
    {
      "cell_type": "markdown",
      "source": [
        "## Task 3: Building a CNN and One-hot-encoding\n",
        "\n",
        "We then define a simple Convolutional Neural Network (CNN) architecture for the OCR model. The output size of the fully connected layer is set to 62, corresponding to the 62 classes in our dataset."
      ],
      "metadata": {
        "id": "KsT_UJR8NjYm"
      }
    },
    {
      "cell_type": "code",
      "source": [
        "class OCRNet(nn.Module):\n",
        "    def __init__(self, num_features):\n",
        "        super(OCRNet, self).__init__()\n",
        "        self.conv1 = nn.Conv2d(3, 16, kernel_size=3, stride=1, padding=1)\n",
        "        self.conv2 = nn.Conv2d(16, 32, kernel_size=3, stride=1, padding=1)\n",
        "        self.fc = nn.Linear(num_features, 62)  # Output has 62 classes instead of 10\n",
        "\n",
        "    def forward(self, x):\n",
        "        x = F.relu(self.conv1(x))\n",
        "        x = F.relu(self.conv2(x))\n",
        "        x = x.view(x.size(0), -1)\n",
        "        x = self.fc(x)\n",
        "        return x\n",
        "\n",
        "num_features = 32 * 48 * 48  # Adjust this value based on the actual feature size\n",
        "model = OCRNet(num_features)"
      ],
      "metadata": {
        "id": "RmhlHpgHTcIU"
      },
      "execution_count": 45,
      "outputs": []
    },
    {
      "cell_type": "markdown",
      "source": [
        "## Task 4: Set the Optimizer and Loss Functions\n",
        "\n",
        "Stochastic Gradient Descent (SGD) is used as the optimizer, and Cross Entropy Loss is used as the loss function."
      ],
      "metadata": {
        "id": "efxIJ3NtNrBi"
      }
    },
    {
      "cell_type": "code",
      "source": [
        "optimizer = optim.SGD(model.parameters(), lr=0.001, momentum=0.9)\n",
        "criterion = nn.CrossEntropyLoss()"
      ],
      "metadata": {
        "id": "GLNfokbqeqOm"
      },
      "execution_count": 46,
      "outputs": []
    },
    {
      "cell_type": "markdown",
      "source": [
        "## Task 5: Training the Model\n",
        "\n",
        "The model is trained using the training set. The loss for each epoch is printed to monitor the training process."
      ],
      "metadata": {
        "id": "1LHTCcOYNwoW"
      }
    },
    {
      "cell_type": "code",
      "source": [
        "def train(model, train_loader, optimizer, criterion, num_epochs=10):\n",
        "    model.train()\n",
        "    for epoch in range(num_epochs):\n",
        "        running_loss = 0.0\n",
        "        for images, labels in train_loader:\n",
        "            optimizer.zero_grad()\n",
        "            outputs = model(images)\n",
        "            loss = criterion(outputs, labels)\n",
        "            loss.backward()\n",
        "            optimizer.step()\n",
        "            running_loss += loss.item()\n",
        "        epoch_loss = running_loss / len(train_loader)\n",
        "        print(f\"Epoch {epoch+1}/{num_epochs}, Loss: {epoch_loss:.4f}\")"
      ],
      "metadata": {
        "id": "zcxzvJSXGT9V"
      },
      "execution_count": null,
      "outputs": []
    },
    {
      "cell_type": "code",
      "source": [
        "def train(model, train_loader, optimizer, criterion, num_epochs=10, print_every=100):\n",
        "    model.train()\n",
        "    for epoch in range(num_epochs):\n",
        "        running_loss = 0.0\n",
        "        running_count = 0\n",
        "        for i, (images, labels) in enumerate(train_loader):\n",
        "            optimizer.zero_grad()\n",
        "            outputs = model(images)\n",
        "            loss = criterion(outputs, labels)\n",
        "            loss.backward()\n",
        "            optimizer.step()\n",
        "            running_loss += loss.item()\n",
        "            running_count += 1\n",
        "\n",
        "            # Print average loss every 'print_every' mini-batches\n",
        "            if (i+1) % print_every == 0:\n",
        "                print(f\"Epoch [{epoch+1}/{num_epochs}], Step [{i+1}/{len(train_loader)}], Average Loss: {running_loss/running_count:.4f}\")\n",
        "                running_loss = 0.0\n",
        "                running_count = 0\n",
        "\n",
        "        # Print loss after each epoch\n",
        "        epoch_loss = running_loss / len(train_loader)\n",
        "        print(f\"\\nEnd of Epoch {epoch+1}/{num_epochs}, Average Epoch Loss: {epoch_loss:.4f}\")\n"
      ],
      "metadata": {
        "id": "sBExnbvSV2LY"
      },
      "execution_count": 47,
      "outputs": []
    },
    {
      "cell_type": "code",
      "source": [
        "# Call the training function\n",
        "train(model, train_loader, optimizer, criterion, num_epochs=20)"
      ],
      "metadata": {
        "colab": {
          "base_uri": "https://localhost:8080/"
        },
        "id": "BjZ7rowDUCDo",
        "outputId": "a6160256-f0cd-4f43-f1f0-993868211a35"
      },
      "execution_count": 48,
      "outputs": [
        {
          "output_type": "stream",
          "name": "stdout",
          "text": [
            "Epoch [1/20], Step [100/1225], Average Loss: 3.4896\n",
            "Epoch [1/20], Step [200/1225], Average Loss: 2.0695\n",
            "Epoch [1/20], Step [300/1225], Average Loss: 1.7340\n",
            "Epoch [1/20], Step [400/1225], Average Loss: 1.6517\n",
            "Epoch [1/20], Step [500/1225], Average Loss: 1.4815\n",
            "Epoch [1/20], Step [600/1225], Average Loss: 1.3765\n",
            "Epoch [1/20], Step [700/1225], Average Loss: 1.3546\n",
            "Epoch [1/20], Step [800/1225], Average Loss: 1.2338\n",
            "Epoch [1/20], Step [900/1225], Average Loss: 1.2180\n",
            "Epoch [1/20], Step [1000/1225], Average Loss: 1.2224\n",
            "Epoch [1/20], Step [1100/1225], Average Loss: 1.2404\n",
            "Epoch [1/20], Step [1200/1225], Average Loss: 1.1336\n",
            "\n",
            "End of Epoch 1/20, Average Epoch Loss: 0.0214\n",
            "Epoch [2/20], Step [100/1225], Average Loss: 1.0316\n",
            "Epoch [2/20], Step [200/1225], Average Loss: 1.0621\n",
            "Epoch [2/20], Step [300/1225], Average Loss: 1.0243\n",
            "Epoch [2/20], Step [400/1225], Average Loss: 1.0468\n",
            "Epoch [2/20], Step [500/1225], Average Loss: 0.9753\n",
            "Epoch [2/20], Step [600/1225], Average Loss: 0.9836\n",
            "Epoch [2/20], Step [700/1225], Average Loss: 1.0213\n",
            "Epoch [2/20], Step [800/1225], Average Loss: 0.9823\n",
            "Epoch [2/20], Step [900/1225], Average Loss: 0.9454\n",
            "Epoch [2/20], Step [1000/1225], Average Loss: 0.8949\n",
            "Epoch [2/20], Step [1100/1225], Average Loss: 0.9414\n",
            "Epoch [2/20], Step [1200/1225], Average Loss: 0.9239\n",
            "\n",
            "End of Epoch 2/20, Average Epoch Loss: 0.0168\n",
            "Epoch [3/20], Step [100/1225], Average Loss: 0.8149\n",
            "Epoch [3/20], Step [200/1225], Average Loss: 0.8463\n",
            "Epoch [3/20], Step [300/1225], Average Loss: 0.8218\n",
            "Epoch [3/20], Step [400/1225], Average Loss: 0.8206\n",
            "Epoch [3/20], Step [500/1225], Average Loss: 0.8117\n",
            "Epoch [3/20], Step [600/1225], Average Loss: 0.7907\n",
            "Epoch [3/20], Step [700/1225], Average Loss: 0.7711\n",
            "Epoch [3/20], Step [800/1225], Average Loss: 0.8085\n",
            "Epoch [3/20], Step [900/1225], Average Loss: 0.8015\n",
            "Epoch [3/20], Step [1000/1225], Average Loss: 0.8015\n",
            "Epoch [3/20], Step [1100/1225], Average Loss: 0.7789\n",
            "Epoch [3/20], Step [1200/1225], Average Loss: 0.7615\n",
            "\n",
            "End of Epoch 3/20, Average Epoch Loss: 0.0165\n",
            "Epoch [4/20], Step [100/1225], Average Loss: 0.6962\n",
            "Epoch [4/20], Step [200/1225], Average Loss: 0.6839\n",
            "Epoch [4/20], Step [300/1225], Average Loss: 0.7008\n",
            "Epoch [4/20], Step [400/1225], Average Loss: 0.6985\n",
            "Epoch [4/20], Step [500/1225], Average Loss: 0.7057\n",
            "Epoch [4/20], Step [600/1225], Average Loss: 0.6940\n",
            "Epoch [4/20], Step [700/1225], Average Loss: 0.6734\n",
            "Epoch [4/20], Step [800/1225], Average Loss: 0.6873\n",
            "Epoch [4/20], Step [900/1225], Average Loss: 0.7135\n",
            "Epoch [4/20], Step [1000/1225], Average Loss: 0.6890\n",
            "Epoch [4/20], Step [1100/1225], Average Loss: 0.7013\n",
            "Epoch [4/20], Step [1200/1225], Average Loss: 0.6421\n",
            "\n",
            "End of Epoch 4/20, Average Epoch Loss: 0.0142\n",
            "Epoch [5/20], Step [100/1225], Average Loss: 0.6167\n",
            "Epoch [5/20], Step [200/1225], Average Loss: 0.6340\n",
            "Epoch [5/20], Step [300/1225], Average Loss: 0.5917\n",
            "Epoch [5/20], Step [400/1225], Average Loss: 0.6078\n",
            "Epoch [5/20], Step [500/1225], Average Loss: 0.6208\n",
            "Epoch [5/20], Step [600/1225], Average Loss: 0.5989\n",
            "Epoch [5/20], Step [700/1225], Average Loss: 0.6176\n",
            "Epoch [5/20], Step [800/1225], Average Loss: 0.5903\n",
            "Epoch [5/20], Step [900/1225], Average Loss: 0.6175\n",
            "Epoch [5/20], Step [1000/1225], Average Loss: 0.6045\n",
            "Epoch [5/20], Step [1100/1225], Average Loss: 0.5870\n",
            "Epoch [5/20], Step [1200/1225], Average Loss: 0.5873\n",
            "\n",
            "End of Epoch 5/20, Average Epoch Loss: 0.0123\n",
            "Epoch [6/20], Step [100/1225], Average Loss: 0.5282\n",
            "Epoch [6/20], Step [200/1225], Average Loss: 0.5160\n",
            "Epoch [6/20], Step [300/1225], Average Loss: 0.5363\n",
            "Epoch [6/20], Step [400/1225], Average Loss: 0.5675\n",
            "Epoch [6/20], Step [500/1225], Average Loss: 0.5385\n",
            "Epoch [6/20], Step [600/1225], Average Loss: 0.5523\n",
            "Epoch [6/20], Step [700/1225], Average Loss: 0.5132\n",
            "Epoch [6/20], Step [800/1225], Average Loss: 0.5232\n",
            "Epoch [6/20], Step [900/1225], Average Loss: 0.5179\n",
            "Epoch [6/20], Step [1000/1225], Average Loss: 0.5224\n",
            "Epoch [6/20], Step [1100/1225], Average Loss: 0.5640\n",
            "Epoch [6/20], Step [1200/1225], Average Loss: 0.5845\n",
            "\n",
            "End of Epoch 6/20, Average Epoch Loss: 0.0114\n",
            "Epoch [7/20], Step [100/1225], Average Loss: 0.4649\n",
            "Epoch [7/20], Step [200/1225], Average Loss: 0.4988\n",
            "Epoch [7/20], Step [300/1225], Average Loss: 0.4910\n",
            "Epoch [7/20], Step [400/1225], Average Loss: 0.5067\n",
            "Epoch [7/20], Step [500/1225], Average Loss: 0.4548\n",
            "Epoch [7/20], Step [600/1225], Average Loss: 0.4939\n",
            "Epoch [7/20], Step [700/1225], Average Loss: 0.4667\n",
            "Epoch [7/20], Step [800/1225], Average Loss: 0.4728\n",
            "Epoch [7/20], Step [900/1225], Average Loss: 0.5088\n",
            "Epoch [7/20], Step [1000/1225], Average Loss: 0.4835\n",
            "Epoch [7/20], Step [1100/1225], Average Loss: 0.5169\n",
            "Epoch [7/20], Step [1200/1225], Average Loss: 0.4661\n",
            "\n",
            "End of Epoch 7/20, Average Epoch Loss: 0.0092\n",
            "Epoch [8/20], Step [100/1225], Average Loss: 0.4370\n",
            "Epoch [8/20], Step [200/1225], Average Loss: 0.4131\n",
            "Epoch [8/20], Step [300/1225], Average Loss: 0.4334\n",
            "Epoch [8/20], Step [400/1225], Average Loss: 0.4382\n",
            "Epoch [8/20], Step [500/1225], Average Loss: 0.4151\n",
            "Epoch [8/20], Step [600/1225], Average Loss: 0.4461\n",
            "Epoch [8/20], Step [700/1225], Average Loss: 0.4589\n",
            "Epoch [8/20], Step [800/1225], Average Loss: 0.4720\n",
            "Epoch [8/20], Step [900/1225], Average Loss: 0.4624\n",
            "Epoch [8/20], Step [1000/1225], Average Loss: 0.4306\n",
            "Epoch [8/20], Step [1100/1225], Average Loss: 0.4443\n",
            "Epoch [8/20], Step [1200/1225], Average Loss: 0.4593\n",
            "\n",
            "End of Epoch 8/20, Average Epoch Loss: 0.0091\n",
            "Epoch [9/20], Step [100/1225], Average Loss: 0.3678\n",
            "Epoch [9/20], Step [200/1225], Average Loss: 0.3629\n",
            "Epoch [9/20], Step [300/1225], Average Loss: 0.3997\n",
            "Epoch [9/20], Step [400/1225], Average Loss: 0.3983\n",
            "Epoch [9/20], Step [500/1225], Average Loss: 0.4061\n",
            "Epoch [9/20], Step [600/1225], Average Loss: 0.4195\n",
            "Epoch [9/20], Step [700/1225], Average Loss: 0.3801\n",
            "Epoch [9/20], Step [800/1225], Average Loss: 0.4024\n",
            "Epoch [9/20], Step [900/1225], Average Loss: 0.4163\n",
            "Epoch [9/20], Step [1000/1225], Average Loss: 0.4066\n",
            "Epoch [9/20], Step [1100/1225], Average Loss: 0.4207\n",
            "Epoch [9/20], Step [1200/1225], Average Loss: 0.3987\n",
            "\n",
            "End of Epoch 9/20, Average Epoch Loss: 0.0078\n",
            "Epoch [10/20], Step [100/1225], Average Loss: 0.3742\n",
            "Epoch [10/20], Step [200/1225], Average Loss: 0.3467\n",
            "Epoch [10/20], Step [300/1225], Average Loss: 0.3627\n",
            "Epoch [10/20], Step [400/1225], Average Loss: 0.3459\n",
            "Epoch [10/20], Step [500/1225], Average Loss: 0.3371\n",
            "Epoch [10/20], Step [600/1225], Average Loss: 0.3768\n",
            "Epoch [10/20], Step [700/1225], Average Loss: 0.3691\n",
            "Epoch [10/20], Step [800/1225], Average Loss: 0.3884\n",
            "Epoch [10/20], Step [900/1225], Average Loss: 0.3625\n",
            "Epoch [10/20], Step [1000/1225], Average Loss: 0.3744\n",
            "Epoch [10/20], Step [1100/1225], Average Loss: 0.3688\n",
            "Epoch [10/20], Step [1200/1225], Average Loss: 0.3717\n",
            "\n",
            "End of Epoch 10/20, Average Epoch Loss: 0.0069\n",
            "Epoch [11/20], Step [100/1225], Average Loss: 0.2828\n",
            "Epoch [11/20], Step [200/1225], Average Loss: 0.3399\n",
            "Epoch [11/20], Step [300/1225], Average Loss: 0.3193\n",
            "Epoch [11/20], Step [400/1225], Average Loss: 0.3311\n",
            "Epoch [11/20], Step [500/1225], Average Loss: 0.3310\n",
            "Epoch [11/20], Step [600/1225], Average Loss: 0.3383\n",
            "Epoch [11/20], Step [700/1225], Average Loss: 0.3380\n",
            "Epoch [11/20], Step [800/1225], Average Loss: 0.3536\n",
            "Epoch [11/20], Step [900/1225], Average Loss: 0.3667\n",
            "Epoch [11/20], Step [1000/1225], Average Loss: 0.3191\n",
            "Epoch [11/20], Step [1100/1225], Average Loss: 0.3317\n",
            "Epoch [11/20], Step [1200/1225], Average Loss: 0.3747\n",
            "\n",
            "End of Epoch 11/20, Average Epoch Loss: 0.0059\n",
            "Epoch [12/20], Step [100/1225], Average Loss: 0.2865\n",
            "Epoch [12/20], Step [200/1225], Average Loss: 0.3019\n",
            "Epoch [12/20], Step [300/1225], Average Loss: 0.2947\n",
            "Epoch [12/20], Step [400/1225], Average Loss: 0.3272\n",
            "Epoch [12/20], Step [500/1225], Average Loss: 0.3024\n",
            "Epoch [12/20], Step [600/1225], Average Loss: 0.3375\n",
            "Epoch [12/20], Step [700/1225], Average Loss: 0.2925\n",
            "Epoch [12/20], Step [800/1225], Average Loss: 0.3244\n",
            "Epoch [12/20], Step [900/1225], Average Loss: 0.3446\n",
            "Epoch [12/20], Step [1000/1225], Average Loss: 0.3121\n",
            "Epoch [12/20], Step [1100/1225], Average Loss: 0.3307\n",
            "Epoch [12/20], Step [1200/1225], Average Loss: 0.3250\n",
            "\n",
            "End of Epoch 12/20, Average Epoch Loss: 0.0062\n",
            "Epoch [13/20], Step [100/1225], Average Loss: 0.2662\n",
            "Epoch [13/20], Step [200/1225], Average Loss: 0.2935\n",
            "Epoch [13/20], Step [300/1225], Average Loss: 0.2833\n",
            "Epoch [13/20], Step [400/1225], Average Loss: 0.2808\n",
            "Epoch [13/20], Step [500/1225], Average Loss: 0.2858\n",
            "Epoch [13/20], Step [600/1225], Average Loss: 0.2988\n",
            "Epoch [13/20], Step [700/1225], Average Loss: 0.2793\n",
            "Epoch [13/20], Step [800/1225], Average Loss: 0.2835\n",
            "Epoch [13/20], Step [900/1225], Average Loss: 0.3340\n",
            "Epoch [13/20], Step [1000/1225], Average Loss: 0.3154\n",
            "Epoch [13/20], Step [1100/1225], Average Loss: 0.2798\n",
            "Epoch [13/20], Step [1200/1225], Average Loss: 0.2857\n",
            "\n",
            "End of Epoch 13/20, Average Epoch Loss: 0.0062\n",
            "Epoch [14/20], Step [100/1225], Average Loss: 0.2577\n",
            "Epoch [14/20], Step [200/1225], Average Loss: 0.2567\n",
            "Epoch [14/20], Step [300/1225], Average Loss: 0.2582\n",
            "Epoch [14/20], Step [400/1225], Average Loss: 0.2636\n",
            "Epoch [14/20], Step [500/1225], Average Loss: 0.2665\n",
            "Epoch [14/20], Step [600/1225], Average Loss: 0.2727\n",
            "Epoch [14/20], Step [700/1225], Average Loss: 0.2696\n",
            "Epoch [14/20], Step [800/1225], Average Loss: 0.2789\n",
            "Epoch [14/20], Step [900/1225], Average Loss: 0.2759\n",
            "Epoch [14/20], Step [1000/1225], Average Loss: 0.2652\n",
            "Epoch [14/20], Step [1100/1225], Average Loss: 0.3070\n",
            "Epoch [14/20], Step [1200/1225], Average Loss: 0.2840\n",
            "\n",
            "End of Epoch 14/20, Average Epoch Loss: 0.0061\n",
            "Epoch [15/20], Step [100/1225], Average Loss: 0.2232\n",
            "Epoch [15/20], Step [200/1225], Average Loss: 0.2119\n",
            "Epoch [15/20], Step [300/1225], Average Loss: 0.2568\n",
            "Epoch [15/20], Step [400/1225], Average Loss: 0.2657\n",
            "Epoch [15/20], Step [500/1225], Average Loss: 0.2715\n",
            "Epoch [15/20], Step [600/1225], Average Loss: 0.2442\n",
            "Epoch [15/20], Step [700/1225], Average Loss: 0.2733\n",
            "Epoch [15/20], Step [800/1225], Average Loss: 0.2754\n",
            "Epoch [15/20], Step [900/1225], Average Loss: 0.2534\n",
            "Epoch [15/20], Step [1000/1225], Average Loss: 0.2864\n",
            "Epoch [15/20], Step [1100/1225], Average Loss: 0.2578\n",
            "Epoch [15/20], Step [1200/1225], Average Loss: 0.2660\n",
            "\n",
            "End of Epoch 15/20, Average Epoch Loss: 0.0059\n",
            "Epoch [16/20], Step [100/1225], Average Loss: 0.2235\n",
            "Epoch [16/20], Step [200/1225], Average Loss: 0.2439\n",
            "Epoch [16/20], Step [300/1225], Average Loss: 0.2183\n",
            "Epoch [16/20], Step [400/1225], Average Loss: 0.2318\n",
            "Epoch [16/20], Step [500/1225], Average Loss: 0.2284\n",
            "Epoch [16/20], Step [600/1225], Average Loss: 0.2434\n",
            "Epoch [16/20], Step [700/1225], Average Loss: 0.2559\n",
            "Epoch [16/20], Step [800/1225], Average Loss: 0.2364\n",
            "Epoch [16/20], Step [900/1225], Average Loss: 0.2211\n",
            "Epoch [16/20], Step [1000/1225], Average Loss: 0.2602\n",
            "Epoch [16/20], Step [1100/1225], Average Loss: 0.2521\n",
            "Epoch [16/20], Step [1200/1225], Average Loss: 0.2664\n",
            "\n",
            "End of Epoch 16/20, Average Epoch Loss: 0.0050\n",
            "Epoch [17/20], Step [100/1225], Average Loss: 0.1973\n",
            "Epoch [17/20], Step [200/1225], Average Loss: 0.2129\n",
            "Epoch [17/20], Step [300/1225], Average Loss: 0.2344\n",
            "Epoch [17/20], Step [400/1225], Average Loss: 0.2064\n",
            "Epoch [17/20], Step [500/1225], Average Loss: 0.2464\n",
            "Epoch [17/20], Step [600/1225], Average Loss: 0.2124\n",
            "Epoch [17/20], Step [700/1225], Average Loss: 0.2244\n",
            "Epoch [17/20], Step [800/1225], Average Loss: 0.2133\n",
            "Epoch [17/20], Step [900/1225], Average Loss: 0.2293\n",
            "Epoch [17/20], Step [1000/1225], Average Loss: 0.2294\n",
            "Epoch [17/20], Step [1100/1225], Average Loss: 0.2222\n",
            "Epoch [17/20], Step [1200/1225], Average Loss: 0.2571\n",
            "\n",
            "End of Epoch 17/20, Average Epoch Loss: 0.0048\n",
            "Epoch [18/20], Step [100/1225], Average Loss: 0.2001\n",
            "Epoch [18/20], Step [200/1225], Average Loss: 0.2226\n",
            "Epoch [18/20], Step [300/1225], Average Loss: 0.2313\n",
            "Epoch [18/20], Step [400/1225], Average Loss: 0.2122\n",
            "Epoch [18/20], Step [500/1225], Average Loss: 0.2006\n",
            "Epoch [18/20], Step [600/1225], Average Loss: 0.2192\n",
            "Epoch [18/20], Step [700/1225], Average Loss: 0.2009\n",
            "Epoch [18/20], Step [800/1225], Average Loss: 0.2388\n",
            "Epoch [18/20], Step [900/1225], Average Loss: 0.2186\n",
            "Epoch [18/20], Step [1000/1225], Average Loss: 0.2319\n",
            "Epoch [18/20], Step [1100/1225], Average Loss: 0.2360\n",
            "Epoch [18/20], Step [1200/1225], Average Loss: 0.2225\n",
            "\n",
            "End of Epoch 18/20, Average Epoch Loss: 0.0039\n",
            "Epoch [19/20], Step [100/1225], Average Loss: 0.1835\n",
            "Epoch [19/20], Step [200/1225], Average Loss: 0.1873\n",
            "Epoch [19/20], Step [300/1225], Average Loss: 0.1892\n",
            "Epoch [19/20], Step [400/1225], Average Loss: 0.2025\n",
            "Epoch [19/20], Step [500/1225], Average Loss: 0.2021\n",
            "Epoch [19/20], Step [600/1225], Average Loss: 0.2169\n",
            "Epoch [19/20], Step [700/1225], Average Loss: 0.2101\n",
            "Epoch [19/20], Step [800/1225], Average Loss: 0.2131\n",
            "Epoch [19/20], Step [900/1225], Average Loss: 0.2297\n",
            "Epoch [19/20], Step [1000/1225], Average Loss: 0.2239\n",
            "Epoch [19/20], Step [1100/1225], Average Loss: 0.2159\n",
            "Epoch [19/20], Step [1200/1225], Average Loss: 0.2142\n",
            "\n",
            "End of Epoch 19/20, Average Epoch Loss: 0.0041\n",
            "Epoch [20/20], Step [100/1225], Average Loss: 0.1703\n",
            "Epoch [20/20], Step [200/1225], Average Loss: 0.2039\n",
            "Epoch [20/20], Step [300/1225], Average Loss: 0.1890\n",
            "Epoch [20/20], Step [400/1225], Average Loss: 0.2270\n",
            "Epoch [20/20], Step [500/1225], Average Loss: 0.1878\n",
            "Epoch [20/20], Step [600/1225], Average Loss: 0.1921\n",
            "Epoch [20/20], Step [700/1225], Average Loss: 0.1776\n",
            "Epoch [20/20], Step [800/1225], Average Loss: 0.2005\n",
            "Epoch [20/20], Step [900/1225], Average Loss: 0.2011\n",
            "Epoch [20/20], Step [1000/1225], Average Loss: 0.2152\n",
            "Epoch [20/20], Step [1100/1225], Average Loss: 0.1983\n",
            "Epoch [20/20], Step [1200/1225], Average Loss: 0.2165\n",
            "\n",
            "End of Epoch 20/20, Average Epoch Loss: 0.0037\n"
          ]
        }
      ]
    },
    {
      "cell_type": "markdown",
      "source": [
        "## Task 6: Validate the Model\n",
        "\n",
        "After training, we validate the model using the validation set."
      ],
      "metadata": {
        "id": "gvTVBnkSN1zh"
      }
    },
    {
      "cell_type": "code",
      "source": [
        "def validate(model, val_loader, criterion):\n",
        "    model.eval()\n",
        "    running_loss = 0.0\n",
        "    correct = 0\n",
        "    total = 0\n",
        "    with torch.no_grad():\n",
        "        for images, labels in val_loader:\n",
        "            outputs = model(images)\n",
        "            loss = criterion(outputs, labels)\n",
        "            running_loss += loss.item()\n",
        "            _, predicted = torch.max(outputs.data, 1)\n",
        "            total += labels.size(0)\n",
        "            correct += (predicted == labels).sum().item()\n",
        "    avg_loss = running_loss / len(val_loader)\n",
        "    accuracy = 100 * correct / total\n",
        "    print(f'Validation Loss: {avg_loss:.4f}, Validation Accuracy: {accuracy:.2f}%')\n",
        "\n",
        "validate(model, val_loader, criterion)"
      ],
      "metadata": {
        "colab": {
          "base_uri": "https://localhost:8080/"
        },
        "id": "UWsxswW-pTxu",
        "outputId": "11badc85-9a0c-49e9-8e4f-f9fc01dcae06"
      },
      "execution_count": 49,
      "outputs": [
        {
          "output_type": "stream",
          "name": "stdout",
          "text": [
            "Validation Loss: 0.1820, Validation Accuracy: 94.55%\n"
          ]
        }
      ]
    },
    {
      "cell_type": "markdown",
      "source": [
        "## Task 7: Testing the Model\n",
        "\n",
        "Finally, the model is tested using the test set."
      ],
      "metadata": {
        "id": "1YwC_FuDN9Rk"
      }
    },
    {
      "cell_type": "code",
      "source": [
        "def test(model, test_loader, criterion):\n",
        "    model.eval()\n",
        "    running_loss = 0.0\n",
        "    correct = 0\n",
        "    total = 0\n",
        "    with torch.no_grad():\n",
        "        for images, labels in test_loader:\n",
        "            outputs = model(images)\n",
        "            loss = criterion(outputs, labels)\n",
        "            running_loss += loss.item()\n",
        "            _, predicted = torch.max(outputs.data, 1)\n",
        "            total += labels.size(0)\n",
        "            correct += (predicted == labels).sum().item()\n",
        "    avg_loss = running_loss / len(test_loader)\n",
        "    accuracy = 100 * correct / total\n",
        "    print(f'Test Loss: {avg_loss:.4f}, Test Accuracy: {accuracy:.2f}%')\n",
        "\n",
        "test(model, test_loader, criterion)"
      ],
      "metadata": {
        "colab": {
          "base_uri": "https://localhost:8080/"
        },
        "id": "UWRZSPM0pVwE",
        "outputId": "dc41184e-6fde-494d-bd0f-8c768a9a4303"
      },
      "execution_count": 50,
      "outputs": [
        {
          "output_type": "stream",
          "name": "stdout",
          "text": [
            "Test Loss: 0.1939, Test Accuracy: 94.51%\n"
          ]
        }
      ]
    },
    {
      "cell_type": "markdown",
      "source": [
        "## Task 8: Saving and Loading the Model\n",
        "\n",
        "We can save the trained model for later use or further training. To load the model, we first initialize an instance of the model and then load the parameters."
      ],
      "metadata": {
        "id": "n6eEli-dOG8K"
      }
    },
    {
      "cell_type": "code",
      "source": [
        "# Save model\n",
        "if drive_mounted:\n",
        "    torch.save(model.state_dict(), '/content/drive/MyDrive/Python_OCR/PyTorch_OCR_20230614a.pth')\n",
        "else:\n",
        "    torch.save(model.state_dict(), '/content/PyTorch_OCR.pth')"
      ],
      "metadata": {
        "id": "KO5QLAXxqLch"
      },
      "execution_count": 52,
      "outputs": []
    },
    {
      "cell_type": "code",
      "source": [
        "# Load model\n",
        "model = OCRNet(num_features)\n",
        "if drive_mounted:\n",
        "    model.load_state_dict(torch.load('/content/drive/MyDrive/Python_OCR/PyTorch_OCR_20230613a.pth'))\n",
        "else:\n",
        "    model.load_state_dict(torch.load('/content/drive/MyDrive/Python_OCR/PyTorch_OCR.pth'))\n",
        "model.eval()  # Ensure the model is in evaluation mode"
      ],
      "metadata": {
        "colab": {
          "base_uri": "https://localhost:8080/"
        },
        "id": "IScGqb8MquY1",
        "outputId": "c503911a-4758-4557-9ded-006931e1d8d0"
      },
      "execution_count": 15,
      "outputs": [
        {
          "output_type": "execute_result",
          "data": {
            "text/plain": [
              "OCRNet(\n",
              "  (conv1): Conv2d(3, 16, kernel_size=(3, 3), stride=(1, 1), padding=(1, 1))\n",
              "  (conv2): Conv2d(16, 32, kernel_size=(3, 3), stride=(1, 1), padding=(1, 1))\n",
              "  (fc): Linear(in_features=73728, out_features=62, bias=True)\n",
              ")"
            ]
          },
          "metadata": {},
          "execution_count": 15
        }
      ]
    },
    {
      "cell_type": "markdown",
      "source": [
        "## Task 9: Making Predictions\n",
        "\n",
        "The trained model can be used to predict the class of a single image."
      ],
      "metadata": {
        "id": "CTnlu9EZON-v"
      }
    },
    {
      "cell_type": "code",
      "source": [
        "import torch.nn.functional as F\n",
        "\n",
        "classes = list('0123456789ABCDEFGHIJKLMNOPQRSTUVWXYZabcdefghijklmnopqrstuvwxyz')\n",
        "\n",
        "def predict(model, image_path, transform):\n",
        "    image = Image.open(image_path).convert('RGB')  # Convert to RGB\n",
        "    image = transform(image).unsqueeze(0)\n",
        "\n",
        "    model.eval()  # Set the model to evaluation mode\n",
        "    with torch.no_grad():\n",
        "        output = model(image)\n",
        "        probabilities = F.softmax(output, dim=1)\n",
        "        predicted_prob, predicted_idx = torch.max(probabilities, 1)\n",
        "        predicted_class = classes[predicted_idx]\n",
        "\n",
        "        confidence = predicted_prob.item() * 100  # convert to percentage\n",
        "        print(f'Predicted Class: {predicted_class}, Confidence: {confidence:.2f}%')\n",
        "\n",
        "    plt.imshow(Image.open(image_path))\n",
        "    plt.title(f'Predicted Class: {predicted_class}, Confidence: {confidence:.2f}%')\n",
        "    plt.axis('off')\n",
        "    plt.show()\n",
        "\n",
        "# Specify the path to your image\n",
        "#image_path = '/content/EnglishFnt/English/Fnt/Sample049/img049-00001.png'\n",
        "image_path = '/content/sample_A3.png'\n",
        "\n",
        "predict(model, image_path, preprocess)"
      ],
      "metadata": {
        "colab": {
          "base_uri": "https://localhost:8080/",
          "height": 445
        },
        "id": "VyntzSlopTjp",
        "outputId": "6a9387ef-53c7-4c1e-9209-6ed49acbfe3a"
      },
      "execution_count": 76,
      "outputs": [
        {
          "output_type": "stream",
          "name": "stdout",
          "text": [
            "Predicted Class: A, Confidence: 96.65%\n"
          ]
        },
        {
          "output_type": "display_data",
          "data": {
            "text/plain": [
              "<Figure size 640x480 with 1 Axes>"
            ],
            "image/png": "[encoded data removed]"
          },
          "metadata": {}
        }
      ]
    },
    {
      "cell_type": "code",
      "source": [],
      "metadata": {
        "id": "ITrcBiNKp9Ed"
      },
      "execution_count": null,
      "outputs": []
    }
  ]
}